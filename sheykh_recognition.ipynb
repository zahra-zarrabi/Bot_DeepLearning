{
  "nbformat": 4,
  "nbformat_minor": 0,
  "metadata": {
    "accelerator": "GPU",
    "colab": {
      "name": "people.ipynb",
      "provenance": [],
      "collapsed_sections": [],
      "include_colab_link": true
    },
    "kernelspec": {
      "display_name": "Python 3",
      "name": "python3"
    },
    "language_info": {
      "name": "python"
    }
  },
  "cells": [
    {
      "cell_type": "markdown",
      "metadata": {
        "id": "view-in-github",
        "colab_type": "text"
      },
      "source": [
        "<a href=\"https://colab.research.google.com/github/zahra-zarrabi/Bot_DeepLearning/blob/master/sheykh_recognition.ipynb\" target=\"_parent\"><img src=\"https://colab.research.google.com/assets/colab-badge.svg\" alt=\"Open In Colab\"/></a>"
      ]
    },
    {
      "cell_type": "code",
      "metadata": {
        "id": "jaT3t59dqYex"
      },
      "source": [
        "import tensorflow as tf\n",
        "from tensorflow.keras.preprocessing.image import ImageDataGenerator\n",
        "from tensorflow.keras.layers import Dense,Conv2D,MaxPool2D,Flatten, Dropout\n",
        "import numpy as np"
      ],
      "execution_count": null,
      "outputs": []
    },
    {
      "cell_type": "code",
      "metadata": {
        "id": "_C50NWmvugD2"
      },
      "source": [
        "width = height = 256 "
      ],
      "execution_count": null,
      "outputs": []
    },
    {
      "cell_type": "code",
      "metadata": {
        "id": "DmymPnBTFbwG"
      },
      "source": [
        "from google.colab import drive\n",
        "drive.mount('/content/drive')"
      ],
      "execution_count": null,
      "outputs": []
    },
    {
      "cell_type": "code",
      "metadata": {
        "colab": {
          "base_uri": "https://localhost:8080/"
        },
        "id": "lgi2CFayuo9b",
        "outputId": "b32f31b0-ee0e-45ba-c671-aaa078f984a0"
      },
      "source": [
        "image_data_generator = ImageDataGenerator(rescale = 1./255, horizontal_flip=True, validation_split=0.2)\n",
        "\n",
        "train_data= image_data_generator.flow_from_directory('/content/drive/My Drive/people/',target_size=(width,height), class_mode='binary',batch_size=16,subset='training',shuffle=True)\n",
        "val_data = image_data_generator.flow_from_directory('/content/drive/My Drive/people/',target_size=(width,height),class_mode='binary',batch_size=16,subset='validation',shuffle=True)"
      ],
      "execution_count": null,
      "outputs": [
        {
          "output_type": "stream",
          "name": "stdout",
          "text": [
            "Found 109 images belonging to 2 classes.\n",
            "Found 27 images belonging to 2 classes.\n"
          ]
        }
      ]
    },
    {
      "cell_type": "code",
      "metadata": {
        "id": "eGlAL92c4hCC"
      },
      "source": [
        "model = tf.keras.models.Sequential([\n",
        "                                    Conv2D(16,(3,3),activation='relu',input_shape=(height,width,3)),\n",
        "                                    MaxPool2D((2,2)),\n",
        "                                    Conv2D(32,(3,3),activation='relu'),\n",
        "                                    MaxPool2D((2,2)),\n",
        "                                    Dropout(0.4),\n",
        "                                    Conv2D(64,(3,3),activation='relu'),\n",
        "                                    MaxPool2D((2,2)),\n",
        "                                    Conv2D(64,(3,3),activation='relu'),\n",
        "                                    MaxPool2D((2,2)),\n",
        "                                    # Conv2D(64,(3,3),activation='relu'),\n",
        "                                    Conv2D(128,(3,3),activation='relu'),\n",
        "                                    MaxPool2D((2,2)),\n",
        "                                    Dropout(0.4),\n",
        "                                    Flatten(),\n",
        "                                    Dense(512,activation='relu'),\n",
        "                                    Dense(256,activation='relu'),\n",
        "                                    Dropout(0.4),\n",
        "                                    Dense(16,activation='relu'),\n",
        "                                    Dense(2,activation='sigmoid')                                                                                                                                    \n",
        "])"
      ],
      "execution_count": null,
      "outputs": []
    },
    {
      "cell_type": "code",
      "metadata": {
        "id": "B_n1Ff-vIryr"
      },
      "source": [
        "model.summary()"
      ],
      "execution_count": null,
      "outputs": []
    },
    {
      "cell_type": "code",
      "metadata": {
        "id": "_URJqCN0Jjs0"
      },
      "source": [
        "model.compile(optimizer=tf.keras.optimizers.SGD(),\n",
        "              loss=tf.keras.losses.sparse_categorical_crossentropy,\n",
        "              metrics=['accuracy'])"
      ],
      "execution_count": null,
      "outputs": []
    },
    {
      "cell_type": "code",
      "metadata": {
        "colab": {
          "base_uri": "https://localhost:8080/"
        },
        "id": "qES1GkwlL9HX",
        "outputId": "2fc0520b-ae21-468a-af37-9c4424f15ce4"
      },
      "source": [
        "model.fit(train_data,validation_data=val_data,epochs=70)"
      ],
      "execution_count": null,
      "outputs": [
        {
          "output_type": "stream",
          "name": "stdout",
          "text": [
            "Epoch 1/70\n",
            "7/7 [==============================] - 2s 254ms/step - loss: 0.5479 - accuracy: 0.7064 - val_loss: 0.6110 - val_accuracy: 0.7037\n",
            "Epoch 2/70\n",
            "7/7 [==============================] - 2s 238ms/step - loss: 0.4922 - accuracy: 0.7523 - val_loss: 0.5773 - val_accuracy: 0.6667\n",
            "Epoch 3/70\n",
            "7/7 [==============================] - 2s 235ms/step - loss: 0.4838 - accuracy: 0.7339 - val_loss: 0.6198 - val_accuracy: 0.7778\n",
            "Epoch 4/70\n",
            "7/7 [==============================] - 2s 231ms/step - loss: 0.5647 - accuracy: 0.6606 - val_loss: 0.5733 - val_accuracy: 0.6667\n",
            "Epoch 5/70\n",
            "7/7 [==============================] - 2s 235ms/step - loss: 0.4929 - accuracy: 0.7615 - val_loss: 0.5675 - val_accuracy: 0.6667\n",
            "Epoch 6/70\n",
            "7/7 [==============================] - 2s 229ms/step - loss: 0.4960 - accuracy: 0.6972 - val_loss: 0.5863 - val_accuracy: 0.7407\n",
            "Epoch 7/70\n",
            "7/7 [==============================] - 2s 233ms/step - loss: 0.5007 - accuracy: 0.7431 - val_loss: 0.5745 - val_accuracy: 0.7037\n",
            "Epoch 8/70\n",
            "7/7 [==============================] - 2s 239ms/step - loss: 0.4906 - accuracy: 0.7339 - val_loss: 0.5372 - val_accuracy: 0.6667\n",
            "Epoch 9/70\n",
            "7/7 [==============================] - 2s 240ms/step - loss: 0.4323 - accuracy: 0.8165 - val_loss: 0.5720 - val_accuracy: 0.6667\n",
            "Epoch 10/70\n",
            "7/7 [==============================] - 2s 213ms/step - loss: 0.4733 - accuracy: 0.7706 - val_loss: 0.5825 - val_accuracy: 0.7778\n",
            "Epoch 11/70\n",
            "7/7 [==============================] - 2s 233ms/step - loss: 0.4514 - accuracy: 0.7890 - val_loss: 0.5851 - val_accuracy: 0.7407\n",
            "Epoch 12/70\n",
            "7/7 [==============================] - 2s 222ms/step - loss: 0.5102 - accuracy: 0.7431 - val_loss: 0.5824 - val_accuracy: 0.8519\n",
            "Epoch 13/70\n",
            "7/7 [==============================] - 2s 229ms/step - loss: 0.4562 - accuracy: 0.7706 - val_loss: 0.5661 - val_accuracy: 0.7037\n",
            "Epoch 14/70\n",
            "7/7 [==============================] - 2s 230ms/step - loss: 0.4527 - accuracy: 0.7523 - val_loss: 0.6119 - val_accuracy: 0.7407\n",
            "Epoch 15/70\n",
            "7/7 [==============================] - 2s 228ms/step - loss: 0.4229 - accuracy: 0.7798 - val_loss: 0.6790 - val_accuracy: 0.7407\n",
            "Epoch 16/70\n",
            "7/7 [==============================] - 2s 223ms/step - loss: 0.4413 - accuracy: 0.8073 - val_loss: 0.6231 - val_accuracy: 0.8519\n",
            "Epoch 17/70\n",
            "7/7 [==============================] - 2s 232ms/step - loss: 0.4126 - accuracy: 0.7798 - val_loss: 0.6875 - val_accuracy: 0.8148\n",
            "Epoch 18/70\n",
            "7/7 [==============================] - 2s 232ms/step - loss: 0.4676 - accuracy: 0.7156 - val_loss: 0.5863 - val_accuracy: 0.7037\n",
            "Epoch 19/70\n",
            "7/7 [==============================] - 2s 222ms/step - loss: 0.4183 - accuracy: 0.7706 - val_loss: 0.6158 - val_accuracy: 0.7778\n",
            "Epoch 20/70\n",
            "7/7 [==============================] - 2s 237ms/step - loss: 0.4436 - accuracy: 0.7706 - val_loss: 0.5890 - val_accuracy: 0.6296\n",
            "Epoch 21/70\n",
            "7/7 [==============================] - 2s 238ms/step - loss: 0.4373 - accuracy: 0.7615 - val_loss: 0.5913 - val_accuracy: 0.7778\n",
            "Epoch 22/70\n",
            "7/7 [==============================] - 2s 241ms/step - loss: 0.3981 - accuracy: 0.8257 - val_loss: 0.6108 - val_accuracy: 0.8148\n",
            "Epoch 23/70\n",
            "7/7 [==============================] - 2s 221ms/step - loss: 0.4150 - accuracy: 0.7523 - val_loss: 0.5716 - val_accuracy: 0.7407\n",
            "Epoch 24/70\n",
            "7/7 [==============================] - 2s 235ms/step - loss: 0.4810 - accuracy: 0.7706 - val_loss: 0.5633 - val_accuracy: 0.6296\n",
            "Epoch 25/70\n",
            "7/7 [==============================] - 2s 246ms/step - loss: 0.4425 - accuracy: 0.7615 - val_loss: 0.5873 - val_accuracy: 0.8148\n",
            "Epoch 26/70\n",
            "7/7 [==============================] - 2s 239ms/step - loss: 0.4174 - accuracy: 0.7982 - val_loss: 0.6444 - val_accuracy: 0.8148\n",
            "Epoch 27/70\n",
            "7/7 [==============================] - 2s 235ms/step - loss: 0.4304 - accuracy: 0.7798 - val_loss: 0.6426 - val_accuracy: 0.8148\n",
            "Epoch 28/70\n",
            "7/7 [==============================] - 2s 234ms/step - loss: 0.3803 - accuracy: 0.7890 - val_loss: 0.5719 - val_accuracy: 0.6667\n",
            "Epoch 29/70\n",
            "7/7 [==============================] - 2s 231ms/step - loss: 0.4134 - accuracy: 0.7706 - val_loss: 0.6810 - val_accuracy: 0.7407\n",
            "Epoch 30/70\n",
            "7/7 [==============================] - 2s 237ms/step - loss: 0.4372 - accuracy: 0.8165 - val_loss: 0.6523 - val_accuracy: 0.8148\n",
            "Epoch 31/70\n",
            "7/7 [==============================] - 2s 225ms/step - loss: 0.4286 - accuracy: 0.7523 - val_loss: 0.6089 - val_accuracy: 0.7778\n",
            "Epoch 32/70\n",
            "7/7 [==============================] - 2s 216ms/step - loss: 0.4115 - accuracy: 0.8073 - val_loss: 0.7073 - val_accuracy: 0.7037\n",
            "Epoch 33/70\n",
            "7/7 [==============================] - 2s 234ms/step - loss: 0.4106 - accuracy: 0.8165 - val_loss: 0.6427 - val_accuracy: 0.8148\n",
            "Epoch 34/70\n",
            "7/7 [==============================] - 2s 240ms/step - loss: 0.4336 - accuracy: 0.7615 - val_loss: 0.5871 - val_accuracy: 0.7407\n",
            "Epoch 35/70\n",
            "7/7 [==============================] - 2s 238ms/step - loss: 0.4577 - accuracy: 0.7890 - val_loss: 0.6252 - val_accuracy: 0.7778\n",
            "Epoch 36/70\n",
            "7/7 [==============================] - 2s 230ms/step - loss: 0.4034 - accuracy: 0.8257 - val_loss: 0.6679 - val_accuracy: 0.7407\n",
            "Epoch 37/70\n",
            "7/7 [==============================] - 2s 235ms/step - loss: 0.3519 - accuracy: 0.8440 - val_loss: 0.7204 - val_accuracy: 0.7778\n",
            "Epoch 38/70\n",
            "7/7 [==============================] - 2s 228ms/step - loss: 0.4007 - accuracy: 0.8257 - val_loss: 0.8108 - val_accuracy: 0.6667\n",
            "Epoch 39/70\n",
            "7/7 [==============================] - 2s 237ms/step - loss: 0.4083 - accuracy: 0.8073 - val_loss: 0.6158 - val_accuracy: 0.7407\n",
            "Epoch 40/70\n",
            "7/7 [==============================] - 2s 232ms/step - loss: 0.3700 - accuracy: 0.8349 - val_loss: 0.6057 - val_accuracy: 0.8148\n",
            "Epoch 41/70\n",
            "7/7 [==============================] - 2s 238ms/step - loss: 0.3908 - accuracy: 0.8073 - val_loss: 0.6148 - val_accuracy: 0.7407\n",
            "Epoch 42/70\n",
            "7/7 [==============================] - 2s 239ms/step - loss: 0.3879 - accuracy: 0.8257 - val_loss: 0.6794 - val_accuracy: 0.7778\n",
            "Epoch 43/70\n",
            "7/7 [==============================] - 2s 228ms/step - loss: 0.4412 - accuracy: 0.7615 - val_loss: 0.6655 - val_accuracy: 0.7037\n",
            "Epoch 44/70\n",
            "7/7 [==============================] - 2s 241ms/step - loss: 0.3434 - accuracy: 0.8349 - val_loss: 0.6021 - val_accuracy: 0.6296\n",
            "Epoch 45/70\n",
            "7/7 [==============================] - 2s 228ms/step - loss: 0.3868 - accuracy: 0.7798 - val_loss: 0.5969 - val_accuracy: 0.6667\n",
            "Epoch 46/70\n",
            "7/7 [==============================] - 2s 231ms/step - loss: 0.3394 - accuracy: 0.8257 - val_loss: 0.5846 - val_accuracy: 0.6667\n",
            "Epoch 47/70\n",
            "7/7 [==============================] - 2s 233ms/step - loss: 0.3552 - accuracy: 0.8440 - val_loss: 0.6591 - val_accuracy: 0.7778\n",
            "Epoch 48/70\n",
            "7/7 [==============================] - 2s 240ms/step - loss: 0.3526 - accuracy: 0.7706 - val_loss: 0.7002 - val_accuracy: 0.6667\n",
            "Epoch 49/70\n",
            "7/7 [==============================] - 2s 231ms/step - loss: 0.4002 - accuracy: 0.8073 - val_loss: 0.6358 - val_accuracy: 0.7407\n",
            "Epoch 50/70\n",
            "7/7 [==============================] - 2s 229ms/step - loss: 0.3459 - accuracy: 0.8440 - val_loss: 0.6436 - val_accuracy: 0.7778\n",
            "Epoch 51/70\n",
            "7/7 [==============================] - 2s 225ms/step - loss: 0.3413 - accuracy: 0.8165 - val_loss: 0.5886 - val_accuracy: 0.7407\n",
            "Epoch 52/70\n",
            "7/7 [==============================] - 2s 237ms/step - loss: 0.3791 - accuracy: 0.7890 - val_loss: 0.6358 - val_accuracy: 0.7407\n",
            "Epoch 53/70\n",
            "7/7 [==============================] - 2s 229ms/step - loss: 0.3841 - accuracy: 0.8073 - val_loss: 0.6371 - val_accuracy: 0.7778\n",
            "Epoch 54/70\n",
            "7/7 [==============================] - 2s 230ms/step - loss: 0.3333 - accuracy: 0.8349 - val_loss: 0.6724 - val_accuracy: 0.7778\n",
            "Epoch 55/70\n",
            "7/7 [==============================] - 2s 238ms/step - loss: 0.3884 - accuracy: 0.7798 - val_loss: 0.5836 - val_accuracy: 0.8148\n",
            "Epoch 56/70\n",
            "7/7 [==============================] - 2s 245ms/step - loss: 0.3795 - accuracy: 0.8165 - val_loss: 0.8168 - val_accuracy: 0.7407\n",
            "Epoch 57/70\n",
            "7/7 [==============================] - 2s 232ms/step - loss: 0.3522 - accuracy: 0.8440 - val_loss: 0.6877 - val_accuracy: 0.7407\n",
            "Epoch 58/70\n",
            "7/7 [==============================] - 2s 233ms/step - loss: 0.3204 - accuracy: 0.8532 - val_loss: 0.5908 - val_accuracy: 0.6667\n",
            "Epoch 59/70\n",
            "7/7 [==============================] - 2s 226ms/step - loss: 0.3611 - accuracy: 0.8257 - val_loss: 0.6140 - val_accuracy: 0.7407\n",
            "Epoch 60/70\n",
            "7/7 [==============================] - 2s 239ms/step - loss: 0.3208 - accuracy: 0.8532 - val_loss: 0.5913 - val_accuracy: 0.7037\n",
            "Epoch 61/70\n",
            "7/7 [==============================] - 2s 231ms/step - loss: 0.3738 - accuracy: 0.7890 - val_loss: 0.6992 - val_accuracy: 0.7778\n",
            "Epoch 62/70\n",
            "7/7 [==============================] - 2s 243ms/step - loss: 0.3068 - accuracy: 0.8532 - val_loss: 0.5839 - val_accuracy: 0.7407\n",
            "Epoch 63/70\n",
            "7/7 [==============================] - 2s 236ms/step - loss: 0.3204 - accuracy: 0.8807 - val_loss: 0.6840 - val_accuracy: 0.7778\n",
            "Epoch 64/70\n",
            "7/7 [==============================] - 2s 232ms/step - loss: 0.3217 - accuracy: 0.8716 - val_loss: 0.6835 - val_accuracy: 0.7778\n",
            "Epoch 65/70\n",
            "7/7 [==============================] - 2s 232ms/step - loss: 0.3205 - accuracy: 0.8624 - val_loss: 0.6446 - val_accuracy: 0.7407\n",
            "Epoch 66/70\n",
            "7/7 [==============================] - 2s 238ms/step - loss: 0.3697 - accuracy: 0.8349 - val_loss: 0.6759 - val_accuracy: 0.7778\n",
            "Epoch 67/70\n",
            "7/7 [==============================] - 2s 227ms/step - loss: 0.3614 - accuracy: 0.8440 - val_loss: 0.7571 - val_accuracy: 0.7778\n",
            "Epoch 68/70\n",
            "7/7 [==============================] - 2s 228ms/step - loss: 0.3298 - accuracy: 0.8349 - val_loss: 0.7085 - val_accuracy: 0.7407\n",
            "Epoch 69/70\n",
            "7/7 [==============================] - 2s 223ms/step - loss: 0.3219 - accuracy: 0.8532 - val_loss: 0.6705 - val_accuracy: 0.7778\n",
            "Epoch 70/70\n",
            "7/7 [==============================] - 2s 225ms/step - loss: 0.3239 - accuracy: 0.8624 - val_loss: 0.6615 - val_accuracy: 0.7778\n"
          ]
        },
        {
          "output_type": "execute_result",
          "data": {
            "text/plain": [
              "<keras.callbacks.History at 0x7f2530d58890>"
            ]
          },
          "metadata": {},
          "execution_count": 8
        }
      ]
    },
    {
      "cell_type": "code",
      "metadata": {
        "id": "fZDHqC0GT0cu"
      },
      "source": [
        "model.save('model_new.h5')"
      ],
      "execution_count": null,
      "outputs": []
    },
    {
      "cell_type": "code",
      "metadata": {
        "colab": {
          "base_uri": "https://localhost:8080/"
        },
        "id": "QGqBcATxQRt0",
        "outputId": "245e2ba2-bfbe-43f2-f612-2d07e55c1c6d"
      },
      "source": [
        "import cv2\n",
        "image = cv2.imread('/content/11.jpg')\n",
        "image = cv2.cvtColor(image,cv2.COLOR_BGR2RGB)\n",
        "image = cv2.resize(image,(width,height))\n",
        "image = image/255\n",
        "image = image.reshape(1,256,256,3)\n",
        "pred = model.predict(image)\n",
        "np.argmax(pred)"
      ],
      "execution_count": null,
      "outputs": [
        {
          "output_type": "execute_result",
          "data": {
            "text/plain": [
              "1"
            ]
          },
          "metadata": {},
          "execution_count": 10
        }
      ]
    }
  ]
}