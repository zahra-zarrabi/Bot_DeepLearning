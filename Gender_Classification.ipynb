{
  "nbformat": 4,
  "nbformat_minor": 0,
  "metadata": {
    "accelerator": "GPU",
    "colab": {
      "name": "Gender.ipynb",
      "provenance": [],
      "collapsed_sections": [],
      "include_colab_link": true
    },
    "kernelspec": {
      "display_name": "Python 3",
      "name": "python3"
    },
    "language_info": {
      "name": "python"
    }
  },
  "cells": [
    {
      "cell_type": "markdown",
      "metadata": {
        "id": "view-in-github",
        "colab_type": "text"
      },
      "source": [
        "<a href=\"https://colab.research.google.com/github/zahra-zarrabi/Bot_DeepLearning/blob/master/Gender_Classification.ipynb\" target=\"_parent\"><img src=\"https://colab.research.google.com/assets/colab-badge.svg\" alt=\"Open In Colab\"/></a>"
      ]
    },
    {
      "cell_type": "code",
      "metadata": {
        "id": "uwI4YENxXm5q"
      },
      "source": [
        "!pip install kaggle\n",
        "!mkdir ~/.kaggle\n",
        "!cp kaggle.json ~/.kaggle/\n"
      ],
      "execution_count": null,
      "outputs": []
    },
    {
      "cell_type": "code",
      "metadata": {
        "id": "FgUJtY1-eqsx"
      },
      "source": [
        "!kaggle datasets download -d ashishjangra27/gender-recognition-200k-images-celeba"
      ],
      "execution_count": null,
      "outputs": []
    },
    {
      "cell_type": "code",
      "metadata": {
        "id": "yZV5nacVfqAE"
      },
      "source": [
        "!unzip -qq gender-recognition-200k-images-celeba.zip"
      ],
      "execution_count": null,
      "outputs": []
    },
    {
      "cell_type": "code",
      "metadata": {
        "id": "XogvOgLuf3fm"
      },
      "source": [
        "import tensorflow as tf\n",
        "from tensorflow.keras import layers\n",
        "from tensorflow.keras.preprocessing.image import ImageDataGenerator\n"
      ],
      "execution_count": null,
      "outputs": []
    },
    {
      "cell_type": "markdown",
      "metadata": {
        "id": "dAwX0Ph4gODV"
      },
      "source": [
        "Hyper parameters"
      ]
    },
    {
      "cell_type": "code",
      "metadata": {
        "id": "H7U76j_ygMhn"
      },
      "source": [
        "batch_size = 32\n",
        "width=height=224\n",
        "epochs=10"
      ],
      "execution_count": null,
      "outputs": []
    },
    {
      "cell_type": "markdown",
      "metadata": {
        "id": "N8pdEY_Qhc6f"
      },
      "source": [
        "Dataset"
      ]
    },
    {
      "cell_type": "code",
      "metadata": {
        "id": "wOKMM3mVhafz",
        "colab": {
          "base_uri": "https://localhost:8080/"
        },
        "outputId": "6cd105eb-3b90-4db6-8095-c234de423277"
      },
      "source": [
        "data_generator = ImageDataGenerator(rescale=1./255,\n",
        "                                    horizontal_flip=True)\n",
        "\n",
        "train_data=data_generator.flow_from_directory('/content/Dataset/Train',\n",
        "                                              batch_size=batch_size,\n",
        "                                              shuffle=True,\n",
        "                                              class_mode='categorical',\n",
        "                                              target_size=(width,height))\n",
        "\n",
        "\n",
        "test_data=data_generator.flow_from_directory('/content/Dataset/Test',\n",
        "                                              batch_size=batch_size,\n",
        "                                              class_mode='categorical',\n",
        "                                              shuffle=False,\n",
        "                                              target_size=(width,height))\n",
        "\n",
        "\n",
        "val_data=data_generator.flow_from_directory('/content/Dataset/Validation',\n",
        "                                              batch_size=batch_size,\n",
        "                                              shuffle=True,\n",
        "                                              class_mode='categorical',\n",
        "                                              target_size=(width,height))"
      ],
      "execution_count": null,
      "outputs": [
        {
          "output_type": "stream",
          "name": "stdout",
          "text": [
            "Found 160000 images belonging to 2 classes.\n",
            "Found 20001 images belonging to 2 classes.\n",
            "Found 22598 images belonging to 2 classes.\n"
          ]
        }
      ]
    },
    {
      "cell_type": "code",
      "metadata": {
        "id": "4665bUQwh27s",
        "colab": {
          "base_uri": "https://localhost:8080/"
        },
        "outputId": "78859f50-215c-460d-8504-075ecac481a7"
      },
      "source": [
        "base_model =tf.keras.applications.ResNet50V2(\n",
        "    include_top=True,\n",
        "    weights=\"imagenet\",\n",
        "    input_shape=(width,height,3),\n",
        "    pooling='evg',\n",
        ")"
      ],
      "execution_count": null,
      "outputs": [
        {
          "output_type": "stream",
          "name": "stdout",
          "text": [
            "Downloading data from https://storage.googleapis.com/tensorflow/keras-applications/resnet/resnet50v2_weights_tf_dim_ordering_tf_kernels.h5\n",
            "102875136/102869336 [==============================] - 1s 0us/step\n",
            "102883328/102869336 [==============================] - 1s 0us/step\n"
          ]
        }
      ]
    },
    {
      "cell_type": "code",
      "metadata": {
        "id": "sP590QOJn8q-"
      },
      "source": [
        "# base_model.summary()"
      ],
      "execution_count": null,
      "outputs": []
    },
    {
      "cell_type": "markdown",
      "metadata": {
        "id": "OQojDoiNnkgo"
      },
      "source": [
        "freeze"
      ]
    },
    {
      "cell_type": "code",
      "metadata": {
        "id": "XcTMLuO1nkQB"
      },
      "source": [
        "for layer in base_model.layers[:-6]:\n",
        "  layer.trainable=False"
      ],
      "execution_count": null,
      "outputs": []
    },
    {
      "cell_type": "code",
      "metadata": {
        "id": "cI9FS-t-oYbF"
      },
      "source": [
        "model = tf.keras.Sequential([\n",
        "                             base_model,\n",
        "                             layers.Dense(2,activation='softmax')\n",
        "])"
      ],
      "execution_count": null,
      "outputs": []
    },
    {
      "cell_type": "code",
      "metadata": {
        "id": "BiPhHngTsY42"
      },
      "source": [
        "model.compile(loss=tf.keras.losses.categorical_crossentropy,\n",
        "             optimizer=tf.keras.optimizers.Adam(),\n",
        "             metrics=['accuracy']\n",
        "             )"
      ],
      "execution_count": null,
      "outputs": []
    },
    {
      "cell_type": "code",
      "metadata": {
        "id": "YGhsuzW53eA7",
        "colab": {
          "base_uri": "https://localhost:8080/"
        },
        "outputId": "7f4b5a4f-dab7-4bf2-ee36-60cc68821851"
      },
      "source": [
        "model.fit(train_data,\n",
        "          batch_size=batch_size,\n",
        "          validation_data=val_data,\n",
        "          epochs=5)"
      ],
      "execution_count": null,
      "outputs": [
        {
          "output_type": "stream",
          "name": "stdout",
          "text": [
            "Epoch 1/5\n",
            "5000/5000 [==============================] - 1149s 223ms/step - loss: 0.2186 - accuracy: 0.9374 - val_loss: 0.1508 - val_accuracy: 0.9463\n",
            "Epoch 2/5\n",
            "5000/5000 [==============================] - 1109s 222ms/step - loss: 0.1239 - accuracy: 0.9538 - val_loss: 0.1391 - val_accuracy: 0.9496\n",
            "Epoch 3/5\n",
            "5000/5000 [==============================] - 1107s 221ms/step - loss: 0.1076 - accuracy: 0.9596 - val_loss: 0.1292 - val_accuracy: 0.9526\n",
            "Epoch 4/5\n",
            "5000/5000 [==============================] - 1108s 222ms/step - loss: 0.0972 - accuracy: 0.9636 - val_loss: 0.1270 - val_accuracy: 0.9532\n",
            "Epoch 5/5\n",
            "5000/5000 [==============================] - 1110s 222ms/step - loss: 0.0873 - accuracy: 0.9671 - val_loss: 0.1306 - val_accuracy: 0.9542\n"
          ]
        },
        {
          "output_type": "execute_result",
          "data": {
            "text/plain": [
              "<keras.callbacks.History at 0x7f01601bf190>"
            ]
          },
          "metadata": {},
          "execution_count": 11
        }
      ]
    },
    {
      "cell_type": "code",
      "metadata": {
        "id": "IF5NT3pK42vh"
      },
      "source": [
        "model.save('model_gender.h5')"
      ],
      "execution_count": null,
      "outputs": []
    },
    {
      "cell_type": "code",
      "metadata": {
        "id": "BWc37Fxa4a_2",
        "colab": {
          "base_uri": "https://localhost:8080/"
        },
        "outputId": "2ac8b5e4-01c8-4505-cc70-540ea8cd4fdb"
      },
      "source": [
        "from sklearn.metrics import classification_report,confusion_matrix\n",
        "import numpy as np\n",
        "y_pred=model.predict(test_data)\n",
        "y_pred=np.argmax(y_pred,axis=1)\n",
        "print(y_pred)\n",
        "print('Confusion Matrix')\n",
        "print(confusion_matrix(test_data.classes,y_pred))\n",
        "\n",
        "target_names=list(test_data.class_indices.keys())\n",
        "print('Classification Report')\n",
        "print(classification_report(test_data.classes,y_pred,target_names=target_names))"
      ],
      "execution_count": null,
      "outputs": [
        {
          "output_type": "stream",
          "name": "stdout",
          "text": [
            "[0 0 0 ... 1 1 1]\n",
            "Confusion Matrix\n",
            "[[11187   355]\n",
            " [  409  8050]]\n",
            "Classification Report\n",
            "              precision    recall  f1-score   support\n",
            "\n",
            "      Female       0.96      0.97      0.97     11542\n",
            "        Male       0.96      0.95      0.95      8459\n",
            "\n",
            "    accuracy                           0.96     20001\n",
            "   macro avg       0.96      0.96      0.96     20001\n",
            "weighted avg       0.96      0.96      0.96     20001\n",
            "\n"
          ]
        }
      ]
    },
    {
      "cell_type": "code",
      "metadata": {
        "id": "vt9rfUp3VfVh"
      },
      "source": [
        "y_pred.shape"
      ],
      "execution_count": null,
      "outputs": []
    }
  ]
}