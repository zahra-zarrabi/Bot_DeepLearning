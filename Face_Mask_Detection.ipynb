{
  "nbformat": 4,
  "nbformat_minor": 0,
  "metadata": {
    "colab": {
      "name": "Mask.ipynb",
      "provenance": [],
      "collapsed_sections": [],
      "include_colab_link": true
    },
    "kernelspec": {
      "name": "python3",
      "display_name": "Python 3"
    },
    "language_info": {
      "name": "python"
    },
    "accelerator": "GPU"
  },
  "cells": [
    {
      "cell_type": "markdown",
      "metadata": {
        "id": "view-in-github",
        "colab_type": "text"
      },
      "source": [
        "<a href=\"https://colab.research.google.com/github/zahra-zarrabi/Bot_DeepLearning/blob/master/Face_Mask_Detection.ipynb\" target=\"_parent\"><img src=\"https://colab.research.google.com/assets/colab-badge.svg\" alt=\"Open In Colab\"/></a>"
      ]
    },
    {
      "cell_type": "code",
      "metadata": {
        "id": "y-3hjrCWUbvF"
      },
      "source": [
        "!pip install kaggle\n",
        "!mkdir ~/.kaggle\n",
        "!cp kaggle.json ~/.kaggle/\n"
      ],
      "execution_count": null,
      "outputs": []
    },
    {
      "cell_type": "code",
      "metadata": {
        "id": "p3PoG45hUwM7"
      },
      "source": [
        "!kaggle datasets download -d ashishjangra27/face-mask-12k-images-dataset"
      ],
      "execution_count": null,
      "outputs": []
    },
    {
      "cell_type": "code",
      "metadata": {
        "id": "f5fYVoPdU02S"
      },
      "source": [
        "!unzip -qq face-mask-12k-images-dataset.zip"
      ],
      "execution_count": 3,
      "outputs": []
    },
    {
      "cell_type": "code",
      "metadata": {
        "id": "OwpvRd6NU5SU"
      },
      "source": [
        "import tensorflow as tf\n",
        "from tensorflow.keras import layers\n",
        "from tensorflow.keras.preprocessing.image import ImageDataGenerator\n"
      ],
      "execution_count": 4,
      "outputs": []
    },
    {
      "cell_type": "code",
      "metadata": {
        "id": "G7kMP4DWVWoD"
      },
      "source": [
        "batch_size = 32\n",
        "width=height=224\n",
        "epochs=10"
      ],
      "execution_count": 5,
      "outputs": []
    },
    {
      "cell_type": "code",
      "metadata": {
        "colab": {
          "base_uri": "https://localhost:8080/"
        },
        "id": "D4TdlRgdVb1W",
        "outputId": "d80da944-4348-4889-f200-7018970c63fd"
      },
      "source": [
        "data_generator = ImageDataGenerator(rescale=1./255,\n",
        "                                    horizontal_flip=True)\n",
        "\n",
        "train_data=data_generator.flow_from_directory('/content/Face Mask Dataset/Train',\n",
        "                                              batch_size=batch_size,\n",
        "                                              shuffle=True,\n",
        "                                              class_mode='categorical',\n",
        "                                              target_size=(width,height))\n",
        "\n",
        "\n",
        "test_data=data_generator.flow_from_directory('/content/Face Mask Dataset/Test',\n",
        "                                              batch_size=batch_size,\n",
        "                                              class_mode='categorical',\n",
        "                                              shuffle=False,\n",
        "                                              target_size=(width,height))\n",
        "\n",
        "\n",
        "val_data=data_generator.flow_from_directory('/content/Face Mask Dataset/Validation',\n",
        "                                              batch_size=batch_size,\n",
        "                                              shuffle=True,\n",
        "                                              class_mode='categorical',\n",
        "                                              target_size=(width,height))"
      ],
      "execution_count": 6,
      "outputs": [
        {
          "output_type": "stream",
          "name": "stdout",
          "text": [
            "Found 10000 images belonging to 2 classes.\n",
            "Found 992 images belonging to 2 classes.\n",
            "Found 800 images belonging to 2 classes.\n"
          ]
        }
      ]
    },
    {
      "cell_type": "code",
      "metadata": {
        "colab": {
          "base_uri": "https://localhost:8080/"
        },
        "id": "rYGXf79CVjwH",
        "outputId": "d93d6aad-54bc-46d5-e9df-4cd801a7da93"
      },
      "source": [
        "base_model =tf.keras.applications.ResNet50V2(\n",
        "    include_top=True,\n",
        "    weights=\"imagenet\",\n",
        "    input_shape=(width,height,3),\n",
        "    pooling='evg',\n",
        ")"
      ],
      "execution_count": 7,
      "outputs": [
        {
          "output_type": "stream",
          "name": "stdout",
          "text": [
            "Downloading data from https://storage.googleapis.com/tensorflow/keras-applications/resnet/resnet50v2_weights_tf_dim_ordering_tf_kernels.h5\n",
            "102875136/102869336 [==============================] - 1s 0us/step\n",
            "102883328/102869336 [==============================] - 1s 0us/step\n"
          ]
        }
      ]
    },
    {
      "cell_type": "code",
      "metadata": {
        "id": "R3sNOvimWe7G"
      },
      "source": [
        "for layer in base_model.layers[:-6]:\n",
        "  layer.trainable=False"
      ],
      "execution_count": 8,
      "outputs": []
    },
    {
      "cell_type": "code",
      "metadata": {
        "id": "LEhzhZgKWfvq"
      },
      "source": [
        "model = tf.keras.Sequential([\n",
        "                             base_model,\n",
        "                             layers.Dense(2,activation='softmax')\n",
        "])"
      ],
      "execution_count": 9,
      "outputs": []
    },
    {
      "cell_type": "code",
      "metadata": {
        "id": "sRtxca5VWi8M"
      },
      "source": [
        "model.compile(loss=tf.keras.losses.categorical_crossentropy,\n",
        "             optimizer=tf.keras.optimizers.Adam(),\n",
        "             metrics=['accuracy']\n",
        "             )"
      ],
      "execution_count": 10,
      "outputs": []
    },
    {
      "cell_type": "code",
      "metadata": {
        "colab": {
          "base_uri": "https://localhost:8080/"
        },
        "id": "HCELyl84WmhJ",
        "outputId": "ef6c904c-c75d-4daa-f559-02c89bd23ff3"
      },
      "source": [
        "model.fit(train_data,\n",
        "          batch_size=batch_size,\n",
        "          validation_data=val_data,\n",
        "          epochs=5)"
      ],
      "execution_count": 11,
      "outputs": [
        {
          "output_type": "stream",
          "name": "stdout",
          "text": [
            "Epoch 1/5\n",
            "313/313 [==============================] - 102s 214ms/step - loss: 0.4813 - accuracy: 0.9931 - val_loss: 0.3720 - val_accuracy: 0.9875\n",
            "Epoch 2/5\n",
            "313/313 [==============================] - 66s 212ms/step - loss: 0.2978 - accuracy: 0.9951 - val_loss: 0.2418 - val_accuracy: 0.9950\n",
            "Epoch 3/5\n",
            "313/313 [==============================] - 66s 212ms/step - loss: 0.2008 - accuracy: 0.9967 - val_loss: 0.1668 - val_accuracy: 0.9975\n",
            "Epoch 4/5\n",
            "313/313 [==============================] - 66s 211ms/step - loss: 0.1422 - accuracy: 0.9977 - val_loss: 0.1219 - val_accuracy: 0.9975\n",
            "Epoch 5/5\n",
            "313/313 [==============================] - 66s 212ms/step - loss: 0.1055 - accuracy: 0.9983 - val_loss: 0.0878 - val_accuracy: 1.0000\n"
          ]
        },
        {
          "output_type": "execute_result",
          "data": {
            "text/plain": [
              "<keras.callbacks.History at 0x7fb93ba78650>"
            ]
          },
          "metadata": {},
          "execution_count": 11
        }
      ]
    },
    {
      "cell_type": "code",
      "metadata": {
        "id": "S3aNHsvFWqCJ"
      },
      "source": [
        "model.save('model.h5')"
      ],
      "execution_count": null,
      "outputs": []
    },
    {
      "cell_type": "code",
      "metadata": {
        "id": "H24tv2XMY1Xn",
        "colab": {
          "base_uri": "https://localhost:8080/"
        },
        "outputId": "d5e5667c-f829-4f39-d045-0f590bdd69c8"
      },
      "source": [
        "from sklearn.metrics import classification_report,confusion_matrix\n",
        "import numpy as np\n",
        "y_pred=model.predict(test_data)\n",
        "y_pred=np.argmax(y_pred,axis=1)\n",
        "\n",
        "print('Confusion Matrix')\n",
        "print(confusion_matrix(test_data.classes,y_pred))\n",
        "\n",
        "target_names=list(test_data.class_indices.keys())\n",
        "print('Classification Report')\n",
        "print(classification_report(test_data.classes,y_pred,target_names=target_names))"
      ],
      "execution_count": 13,
      "outputs": [
        {
          "output_type": "stream",
          "name": "stdout",
          "text": [
            "Confusion Matrix\n",
            "[[483   0]\n",
            " [  3 506]]\n",
            "Classification Report\n",
            "              precision    recall  f1-score   support\n",
            "\n",
            "    WithMask       0.99      1.00      1.00       483\n",
            " WithoutMask       1.00      0.99      1.00       509\n",
            "\n",
            "    accuracy                           1.00       992\n",
            "   macro avg       1.00      1.00      1.00       992\n",
            "weighted avg       1.00      1.00      1.00       992\n",
            "\n"
          ]
        }
      ]
    }
  ]
}