{
  "nbformat": 4,
  "nbformat_minor": 0,
  "metadata": {
    "colab": {
      "name": "bot_irani_detector.ipynb",
      "provenance": [],
      "collapsed_sections": [],
      "mount_file_id": "17kSkDtYLl_owzWtrATrAssNIfAoXtee_",
      "authorship_tag": "ABX9TyPCsti1txKaCh1u01UZvHJL",
      "include_colab_link": true
    },
    "kernelspec": {
      "name": "python3",
      "display_name": "Python 3"
    },
    "language_info": {
      "name": "python"
    }
  },
  "cells": [
    {
      "cell_type": "markdown",
      "metadata": {
        "id": "view-in-github",
        "colab_type": "text"
      },
      "source": [
        "<a href=\"https://colab.research.google.com/github/zahra-zarrabi/Bot_DeepLearning/blob/master/irani_detector.ipynb\" target=\"_parent\"><img src=\"https://colab.research.google.com/assets/colab-badge.svg\" alt=\"Open In Colab\"/></a>"
      ]
    },
    {
      "cell_type": "code",
      "metadata": {
        "id": "PfSSietOnYvT"
      },
      "source": [
        "!pip install pyTelegramBotAPI\n",
        "!pip install retina-face"
      ],
      "execution_count": null,
      "outputs": []
    },
    {
      "cell_type": "code",
      "metadata": {
        "id": "syHEQXVdmAlc"
      },
      "source": [
        "import telebot\n",
        "from retinaface import RetinaFace\n",
        "import tensorflow as tf\n",
        "import cv2\n",
        "import numpy as np\n"
      ],
      "execution_count": 2,
      "outputs": []
    },
    {
      "cell_type": "code",
      "metadata": {
        "id": "cxfgxciTmWe5"
      },
      "source": [
        "bot = telebot.TeleBot(\"2031556072:AAHJRL1t2vDV8Jl2y35jSGWIGvIJ_aSuPvY\")\n",
        "model = tf.keras.models.load_model('/content/Model_persion.h5')\n",
        "\n",
        "def predict(img):\n",
        "    pred_img = model.predict(img)\n",
        "    return pred_img\n",
        "\n",
        "@bot.message_handler(commands=['start'])\n",
        "def start_handler(message):\n",
        "    bot.send_message(message.chat.id, ' welcome to irani detector bot. ' + message.from_user.username)\n",
        "    text = 'please upload image '\n",
        "    bot.send_message(message.chat.id, text)\n",
        "\n",
        "@bot.message_handler(content_types=['photo'])\n",
        "def image(message):\n",
        "    file_info = bot.get_file(message.photo[len(message.photo) - 1].file_id)\n",
        "    downloaded_file = bot.download_file(file_info.file_path)\n",
        "    with open('/content/img.jpg', 'wb') as new_file:\n",
        "      new_file.write(downloaded_file)\n",
        "    faces = RetinaFace.extract_faces(img_path='/content/img.jpg', align=True)\n",
        "    face = faces[0]\n",
        "    print(face)\n",
        "    img = cv2.resize(face, dsize=(224, 224))\n",
        "    img = img / 255\n",
        "    img = np.expand_dims(img, axis=0)\n",
        "    lable = predict(img)\n",
        "    lable = str(np.argmax(lable[0]))\n",
        "    print(lable)\n",
        "    if lable=='0':\n",
        "        bot.send_message(message.chat.id, 'foreign person')\n",
        "    else:\n",
        "        bot.reply_to(message,'irani person')\n",
        "\n",
        "@bot.message_handler(func= lambda message:True)\n",
        "def send_normal_message(message):\n",
        "    bot.reply_to(message, 'Not expecting text. ')\n",
        "\n",
        "bot.polling()"
      ],
      "execution_count": null,
      "outputs": []
    }
  ]
}